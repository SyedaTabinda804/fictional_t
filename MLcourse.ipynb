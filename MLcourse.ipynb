{
  "nbformat": 4,
  "nbformat_minor": 0,
  "metadata": {
    "colab": {
      "provenance": [],
      "authorship_tag": "ABX9TyOcN2pIoE/Dpluq8e8w73Y6",
      "include_colab_link": true
    },
    "kernelspec": {
      "name": "python3",
      "display_name": "Python 3"
    },
    "language_info": {
      "name": "python"
    }
  },
  "cells": [
    {
      "cell_type": "markdown",
      "metadata": {
        "id": "view-in-github",
        "colab_type": "text"
      },
      "source": [
        "<a href=\"https://colab.research.google.com/github/SyedaTabinda804/fictional_t/blob/main/MLcourse.ipynb\" target=\"_parent\"><img src=\"https://colab.research.google.com/assets/colab-badge.svg\" alt=\"Open In Colab\"/></a>"
      ]
    },
    {
      "cell_type": "markdown",
      "source": [
        "**Examples**\n",
        "\n",
        "example 1:\n"
      ],
      "metadata": {
        "id": "wKHFBG1U-Ghq"
      }
    },
    {
      "cell_type": "code",
      "source": [
        "print (\"Name: Ali\")"
      ],
      "metadata": {
        "colab": {
          "base_uri": "https://localhost:8080/"
        },
        "id": "yM_gr7w9-eTR",
        "outputId": "9f9c560a-813c-4281-fba4-77454e0f7f06"
      },
      "execution_count": null,
      "outputs": [
        {
          "output_type": "stream",
          "name": "stdout",
          "text": [
            "Name: Ali\n"
          ]
        }
      ]
    },
    {
      "cell_type": "markdown",
      "source": [
        "\n",
        "example 2:\n"
      ],
      "metadata": {
        "id": "EFqocNu4-oC3"
      }
    },
    {
      "cell_type": "code",
      "source": [
        "var0= 0\n",
        "var1= \"Hello Python\"\n",
        "var2= 32\n",
        "var3= 56.4\n",
        "print(\"var0:\",type(var0))\n",
        "print(\"var1:\",type(var1))\n",
        "print(\"var1:\",type(var2))\n",
        "print(\"var1:\",type(var3))"
      ],
      "metadata": {
        "colab": {
          "base_uri": "https://localhost:8080/"
        },
        "id": "K7E9MLo3-sLw",
        "outputId": "4aa48f08-3098-4276-ceca-34d7db9be436"
      },
      "execution_count": null,
      "outputs": [
        {
          "output_type": "stream",
          "name": "stdout",
          "text": [
            "var0: <class 'int'>\n",
            "var1: <class 'str'>\n",
            "var1: <class 'int'>\n",
            "var1: <class 'float'>\n"
          ]
        }
      ]
    },
    {
      "cell_type": "markdown",
      "source": [
        "\n",
        "example 3:\n"
      ],
      "metadata": {
        "id": "jNFdeMiz_yQs"
      }
    },
    {
      "cell_type": "code",
      "source": [
        "def add(a,b):\n",
        "   c = int(a) + int(b)\n",
        "   print(\" Add result:\" ,c)\n",
        "\n",
        "if __name__ == \"__main__\":\n",
        "   print(\"Enter First Number:\")\n",
        "   a = input()\n",
        "   print(\"Enter Second Number:\")\n",
        "   b = input()\n",
        "   add(a,b)\n"
      ],
      "metadata": {
        "id": "8JibgYex_07g",
        "outputId": "f5439ee3-dc87-4042-828c-07520c122b7a",
        "colab": {
          "base_uri": "https://localhost:8080/"
        }
      },
      "execution_count": null,
      "outputs": [
        {
          "output_type": "stream",
          "name": "stdout",
          "text": [
            "Enter First Number:\n",
            "25\n",
            "Enter Second Number:\n",
            "5\n",
            " Add result: 30\n"
          ]
        }
      ]
    },
    {
      "cell_type": "markdown",
      "source": [
        "\n",
        "Example 4\n"
      ],
      "metadata": {
        "id": "5hvDNt2KHp9_"
      }
    },
    {
      "cell_type": "code",
      "source": [
        "def add(a, b):\n",
        "  c = int (a) + int(b)\n",
        "  print(\" ADD result: \" ,c)\n",
        "\n",
        "add ( 2, 3)"
      ],
      "metadata": {
        "id": "WF4ncomUHuGG",
        "outputId": "4dc25290-1db9-4645-9f33-3d24f0e0a89e",
        "colab": {
          "base_uri": "https://localhost:8080/"
        }
      },
      "execution_count": null,
      "outputs": [
        {
          "output_type": "stream",
          "name": "stdout",
          "text": [
            " ADD result:  5\n"
          ]
        }
      ]
    },
    {
      "cell_type": "markdown",
      "source": [
        "\n",
        "Question:\n",
        "\n",
        "solve these examples:\n",
        "\n",
        "1.\n",
        "Write a program which can perform ADD, Subtract, Multiply and Divide\n",
        "operations with the help of Functions. Multiply Function should be parametrized\n",
        "function and other functions should be default functions.\n"
      ],
      "metadata": {
        "id": "oFFP4SGqItGs"
      }
    },
    {
      "cell_type": "code",
      "source": [
        "def add():\n",
        "    a = input(\"Enter the first number: \")\n",
        "    b = input(\"Enter the second number: \")\n",
        "    try:\n",
        "        c = int(a) + int(b)\n",
        "        print(\"Add result:\", c)\n",
        "    except ValueError:\n",
        "        print(\"Invalid input. Please enter numbers only.\")\n",
        "\n",
        "def subtract():\n",
        "    a = input(\"Enter the first number: \")\n",
        "    b = input(\"Enter the second number: \")\n",
        "    try:\n",
        "        c = int(a) - int(b)\n",
        "        print(\"Subtract result:\", c)\n",
        "    except ValueError:\n",
        "        print(\"Invalid input. Please enter numbers only.\")\n",
        "\n",
        "def divide():\n",
        "    a = input(\"Enter the first number: \")\n",
        "    b = input(\"Enter the second number: \")\n",
        "    try:\n",
        "        if int(b) == 0:\n",
        "            print(\"Cannot divide by zero.\")\n",
        "        else:\n",
        "            c = int(a) / int(b)\n",
        "            print(\"Divide result:\", c)\n",
        "    except ValueError:\n",
        "        print(\"Invalid input. Please enter numbers only.\")\n",
        "    except ZeroDivisionError:\n",
        "        print(\"Cannot divide by zero.\")\n",
        "\n",
        "\n",
        "def multiply(a, b):\n",
        "    try:\n",
        "        c = int(a) * int(b)\n",
        "        print(\"Multiply result:\", c)\n",
        "    except ValueError:\n",
        "        print(\"Invalid input. Please enter numbers only.\")\n",
        "\n",
        "\n",
        "if __name__ == \"__main__\":\n",
        "    while True:\n",
        "        print(\"\\nSelect operation:\")\n",
        "        print(\"1. Add\")\n",
        "        print(\"2. Subtract\")\n",
        "        print(\"3. Multiply\")\n",
        "        print(\"4. Divide\")\n",
        "        print(\"5. Exit\")\n",
        "\n",
        "        choice = input(\"Enter choice(1/2/3/4/5): \")\n",
        "\n",
        "        if choice == '1':\n",
        "            add()\n",
        "        elif choice == '2':\n",
        "            subtract()\n",
        "        elif choice == '3':\n",
        "            a = input(\"Enter the first number: \")\n",
        "            b = input(\"Enter the second number: \")\n",
        "            multiply(a, b)\n",
        "        elif choice == '4':\n",
        "            divide()\n",
        "        elif choice == '5':\n",
        "            break\n",
        "        else:\n",
        "            print(\"Invalid Input\")"
      ],
      "metadata": {
        "id": "r2usp_0iNeFy",
        "colab": {
          "base_uri": "https://localhost:8080/"
        },
        "outputId": "fd5e2218-9115-41ab-eab1-edd1997a9734"
      },
      "execution_count": null,
      "outputs": [
        {
          "name": "stdout",
          "output_type": "stream",
          "text": [
            "\n",
            "Select operation:\n",
            "1. Add\n",
            "2. Subtract\n",
            "3. Multiply\n",
            "4. Divide\n",
            "5. Exit\n",
            "Enter choice(1/2/3/4/5): 1\n",
            "Enter the first number: 512\n",
            "Enter the second number: 12\n",
            "Add result: 524\n",
            "\n",
            "Select operation:\n",
            "1. Add\n",
            "2. Subtract\n",
            "3. Multiply\n",
            "4. Divide\n",
            "5. Exit\n",
            "Enter choice(1/2/3/4/5): 5\n"
          ]
        }
      ]
    },
    {
      "cell_type": "markdown",
      "source": [
        "Question:\n",
        "\n",
        "solve these examples:\n",
        "\n",
        "2.\n",
        "Write a python program which get two inputs from the user and calculate the\n",
        "average of these numbers. The average function should be implemented as a\n",
        "function."
      ],
      "metadata": {
        "id": "vJpzqDscDPwM"
      }
    },
    {
      "cell_type": "code",
      "source": [
        "def calculate_average(num1, num2):\n",
        "    try:\n",
        "        num1 = float(num1)\n",
        "        num2 = float(num2)\n",
        "        average = (num1 + num2) / 2\n",
        "        return average\n",
        "    except ValueError:\n",
        "        print(\"Invalid input. Please enter numbers only.\")\n",
        "        return None\n",
        "\n",
        "if __name__ == \"__main__\":\n",
        "    num1 = input(\"Enter the first number: \")\n",
        "    num2 = input(\"Enter the second number: \")\n",
        "\n",
        "    average = calculate_average(num1, num2)\n",
        "    if average is not None:\n",
        "      print(\"The average of\", num1, \"and\", num2, \"is \", average)"
      ],
      "metadata": {
        "colab": {
          "base_uri": "https://localhost:8080/"
        },
        "id": "1omXFrLuDp_q",
        "outputId": "b9f014a2-22c4-4192-ae6c-04ef4ba07135"
      },
      "execution_count": null,
      "outputs": [
        {
          "output_type": "stream",
          "name": "stdout",
          "text": [
            "Enter the first number: 25\n",
            "Enter the second number: 5\n",
            "The average of 25 and 5 is  15.0\n"
          ]
        }
      ]
    },
    {
      "cell_type": "code",
      "source": [
        "def is_right_triangle(a, b, c):\n",
        "    sides = sorted([a, b, c])\n",
        "    if sides[0]**2 + sides[1]**2 == sides[2]**2:\n",
        "        return True\n",
        "    else:\n",
        "        return False\n",
        "\n",
        "# Get input from the user\n",
        "side1 = float(input(\"Enter the length of the first side: \"))\n",
        "side2 = float(input(\"Enter the length of the second side: \"))\n",
        "side3 = float(input(\"Enter the length of the third side: \"))\n",
        "\n",
        "# Check if it's a right-angled triangle\n",
        "if is_right_triangle(side1, side2, side3):\n",
        "    print(\"The triangle is a right-angled triangle.\")\n",
        "else:\n",
        "    print(\"The triangle is not a right-angled triangle.\")"
      ],
      "metadata": {
        "id": "rfPus5iqM_LN"
      },
      "execution_count": null,
      "outputs": []
    },
    {
      "cell_type": "markdown",
      "source": [
        "**LAB no 2**"
      ],
      "metadata": {
        "id": "FZ9bW5CQ9Vnd"
      }
    },
    {
      "cell_type": "code",
      "source": [
        "# prompt: Given string contains a combination of the lower and upper case letters. Write a\n",
        "# program to arrange the characters of a string so that all lowercase letters should\n",
        "# come first.    string: \"ProGrAmMer\" . note: show output\n",
        "\n",
        "def arrange_string(input_string):\n",
        "    lower_case_chars = \"\"\n",
        "    upper_case_chars = \"\"\n",
        "    for char in input_string:\n",
        "        if 'a' <= char <= 'z':\n",
        "            lower_case_chars += char\n",
        "        else:\n",
        "            upper_case_chars += char\n",
        "    return lower_case_chars + upper_case_chars\n",
        "\n",
        "input_string = \"ProGrAmMer\"\n",
        "result = arrange_string(input_string)\n",
        "print(result)  # Output: oarmrPGMer"
      ],
      "metadata": {
        "colab": {
          "base_uri": "https://localhost:8080/"
        },
        "id": "y1u8vTQ-9ax2",
        "outputId": "4876e37b-4c82-4552-a8e5-398432a16ba7"
      },
      "execution_count": 3,
      "outputs": [
        {
          "output_type": "stream",
          "name": "stdout",
          "text": [
            "rormerPGAM\n"
          ]
        }
      ]
    },
    {
      "cell_type": "code",
      "source": [
        "# prompt: Write a python program to print the inverse tuple.\n",
        "\n",
        "def inverse_tuple(input_tuple):\n",
        "    \"\"\"Inverts a tuple.\n",
        "\n",
        "    Args:\n",
        "      input_tuple: The tuple to invert.\n",
        "\n",
        "    Returns:\n",
        "      The inverted tuple.\n",
        "    \"\"\"\n",
        "    return tuple(reversed(input_tuple))\n",
        "\n",
        "# Example usage\n",
        "my_tuple = (1, 2, 3, 4, 5)\n",
        "inverted_tuple = inverse_tuple(my_tuple)\n",
        "print(inverted_tuple)  # Output: (5, 4, 3, 2, 1)"
      ],
      "metadata": {
        "colab": {
          "base_uri": "https://localhost:8080/"
        },
        "id": "vmolHDAeEoLu",
        "outputId": "7914b8f9-b7ce-40a7-ba39-5f312d904f06"
      },
      "execution_count": 4,
      "outputs": [
        {
          "output_type": "stream",
          "name": "stdout",
          "text": [
            "(5, 4, 3, 2, 1)\n"
          ]
        }
      ]
    },
    {
      "cell_type": "code",
      "source": [
        "# prompt: Write a python program to swap the two tuples.\n",
        "\n",
        "def swap_tuples(tuple1, tuple2):\n",
        "    \"\"\"Swaps two tuples.\n",
        "\n",
        "    Args:\n",
        "      tuple1: The first tuple.\n",
        "      tuple2: The second tuple.\n",
        "\n",
        "    Returns:\n",
        "      A tuple containing the swapped tuples.\n",
        "    \"\"\"\n",
        "    return tuple2, tuple1\n",
        "\n",
        "# Example usage\n",
        "tuple1 = (1, 2, 3)\n",
        "tuple2 = (4, 5, 6)\n",
        "\n",
        "tuple1, tuple2 = swap_tuples(tuple1, tuple2)\n",
        "\n",
        "print(\"Tuple 1 after swapping:\", tuple1)\n",
        "print(\"Tuple 2 after swapping:\", tuple2)"
      ],
      "metadata": {
        "colab": {
          "base_uri": "https://localhost:8080/"
        },
        "id": "M5SjWWUGF_6J",
        "outputId": "30308759-a9c3-496c-d6e2-ffe755059ab8"
      },
      "execution_count": 5,
      "outputs": [
        {
          "output_type": "stream",
          "name": "stdout",
          "text": [
            "Tuple 1 after swapping: (4, 5, 6)\n",
            "Tuple 2 after swapping: (1, 2, 3)\n"
          ]
        }
      ]
    },
    {
      "cell_type": "code",
      "source": [
        "# prompt: Get the key of a minimum and maximum value from the following dictionary. The\n",
        "# dictionary is given below.\n",
        "\n",
        "def find_min_max_keys(input_dict):\n",
        "    if not input_dict:\n",
        "        return {}, {}\n",
        "    min_value = min(input_dict.values())\n",
        "    max_value = max(input_dict.values())\n",
        "\n",
        "    min_keys = {key for key, value in input_dict.items() if value == min_value}\n",
        "    max_keys = {key for key, value in input_dict.items() if value == max_value}\n",
        "    return min_keys, max_keys\n",
        "my_dict = {\"C++\": 82, \"Machine Learning\": 65, \"OOP\": 75, \"PF\": 63, \"DSA\": 79}\n",
        "min_key, max_key = find_min_max_keys(my_dict)\n",
        "print(\"Keys with minimum value:\", min_key)\n",
        "print(\"Keys with maximum value:\", max_key)"
      ],
      "metadata": {
        "colab": {
          "base_uri": "https://localhost:8080/"
        },
        "id": "sJBowamgHFkW",
        "outputId": "d173934a-047b-41a4-ed96-48f6c3c11ce1"
      },
      "execution_count": 6,
      "outputs": [
        {
          "output_type": "stream",
          "name": "stdout",
          "text": [
            "Keys with minimum value: {'PF'}\n",
            "Keys with maximum value: {'C++'}\n"
          ]
        }
      ]
    },
    {
      "cell_type": "code",
      "source": [
        "# prompt: Write a Python program to return a new set with unique items from both sets by removing duplicates.\n",
        "\n",
        "def unique_items_from_sets(set1, set2):\n",
        "    \"\"\"\n",
        "    Returns a new set with unique items from both sets by removing duplicates.\n",
        "\n",
        "    Args:\n",
        "        set1: The first set.\n",
        "        set2: The second set.\n",
        "\n",
        "    Returns:\n",
        "        A new set containing unique items from both input sets.\n",
        "    \"\"\"\n",
        "    return set1.union(set2)\n",
        "\n",
        "# Example usage\n",
        "set1 = {1, 2, 3, 4, 5}\n",
        "set2 = {3, 5, 6, 7, 8}\n",
        "\n",
        "unique_set = unique_items_from_sets(set1, set2)\n",
        "print(unique_set)  # Output: {1, 2, 3, 4, 5, 6, 7, 8}"
      ],
      "metadata": {
        "colab": {
          "base_uri": "https://localhost:8080/"
        },
        "id": "uyf0UjUDJe4p",
        "outputId": "dc0e07fe-a66b-44bc-b3ed-a131493523e2"
      },
      "execution_count": 7,
      "outputs": [
        {
          "output_type": "stream",
          "name": "stdout",
          "text": [
            "{1, 2, 3, 4, 5, 6, 7, 8}\n"
          ]
        }
      ]
    },
    {
      "cell_type": "code",
      "source": [
        "# prompt: Check if two sets have any elements in common. If yes, display the common elements\n",
        "\n",
        "def check_common_elements(set1, set2):\n",
        "    \"\"\"\n",
        "    Checks if two sets have any elements in common. If yes, displays the common elements.\n",
        "\n",
        "    Args:\n",
        "        set1: The first set.\n",
        "        set2: The second set.\n",
        "    \"\"\"\n",
        "    common_elements = set1.intersection(set2)\n",
        "    if common_elements:\n",
        "        print(\"Common elements:\", common_elements)\n",
        "    else:\n",
        "        print(\"No common elements found.\")\n",
        "\n",
        "# Example usage\n",
        "set1 = {1, 2, 3, 4, 5}\n",
        "set2 = {3, 5, 6, 7, 8}\n",
        "check_common_elements(set1, set2)  # Output: Common elements: {3, 5}\n",
        "\n",
        "\n",
        "set3 = {1, 2}\n",
        "set4 = {6, 7}\n",
        "check_common_elements(set3, set4) # Output: No common elements found."
      ],
      "metadata": {
        "colab": {
          "base_uri": "https://localhost:8080/"
        },
        "id": "4yoggX_LLogH",
        "outputId": "9123cfe9-ebfc-4919-9e63-ab961ffd2e4b"
      },
      "execution_count": 8,
      "outputs": [
        {
          "output_type": "stream",
          "name": "stdout",
          "text": [
            "Common elements: {3, 5}\n",
            "No common elements found.\n"
          ]
        }
      ]
    },
    {
      "cell_type": "code",
      "source": [
        "# prompt: Write a python program to get string from the user and print the 2:7 index elements with slicing.\n",
        "\n",
        "def get_string_slice():\n",
        "    input_string = input(\"Enter a string: \")\n",
        "    sliced_string = input_string[2:7]\n",
        "    print(\"Sliced string (index 2 to 7):\", sliced_string)\n",
        "\n",
        "if __name__ == \"__main__\":\n",
        "    get_string_slice()"
      ],
      "metadata": {
        "colab": {
          "base_uri": "https://localhost:8080/"
        },
        "id": "WMEDv3utNGVw",
        "outputId": "a0dbc4b6-d137-4afa-f903-82a27fe19026"
      },
      "execution_count": 9,
      "outputs": [
        {
          "output_type": "stream",
          "name": "stdout",
          "text": [
            "Enter a string: I'm just a girl !!!\n",
            "Sliced string (index 2 to 7): m jus\n"
          ]
        }
      ]
    },
    {
      "cell_type": "code",
      "source": [
        "# prompt: Write a python program to create 2D numpy array and convert into 1D flatten array.\n",
        "\n",
        "import numpy as np\n",
        "\n",
        "# Create a 2D NumPy array\n",
        "two_d_array = np.array([[1, 2, 3], [4, 5, 6], [7, 8, 9]])\n",
        "\n",
        "# Convert the 2D array to a 1D flattened array\n",
        "one_d_array = two_d_array.flatten()\n",
        "\n",
        "# Print the original 2D array\n",
        "print(\"Original 2D array:\")\n",
        "print(two_d_array)\n",
        "\n",
        "# Print the flattened 1D array\n",
        "print(\"\\nFlattened 1D array:\")\n",
        "one_d_array"
      ],
      "metadata": {
        "colab": {
          "base_uri": "https://localhost:8080/"
        },
        "id": "dU4QD3CtQNk5",
        "outputId": "4ab82aeb-5167-480e-ae31-f090714c7593"
      },
      "execution_count": 10,
      "outputs": [
        {
          "output_type": "stream",
          "name": "stdout",
          "text": [
            "Original 2D array:\n",
            "[[1 2 3]\n",
            " [4 5 6]\n",
            " [7 8 9]]\n",
            "\n",
            "Flattened 1D array:\n"
          ]
        },
        {
          "output_type": "execute_result",
          "data": {
            "text/plain": [
              "array([1, 2, 3, 4, 5, 6, 7, 8, 9])"
            ]
          },
          "metadata": {},
          "execution_count": 10
        }
      ]
    },
    {
      "cell_type": "code",
      "source": [
        "# prompt: Write a python program to create Zeros array and Ones array.\n",
        "\n",
        "import numpy as np\n",
        "\n",
        "# Create a zeros array of shape (3, 4)\n",
        "zeros_array = np.zeros((3, 4))\n",
        "print(\"Zeros array:\\n\", zeros_array)\n",
        "\n",
        "# Create an ones array of shape (2, 2)\n",
        "ones_array = np.ones((2, 2))\n",
        "print(\"\\nOnes array:\\n\", ones_array)"
      ],
      "metadata": {
        "colab": {
          "base_uri": "https://localhost:8080/"
        },
        "id": "giJA08i0T3jO",
        "outputId": "92ae6da1-8f55-4b1c-be3e-b7c5b61bd252"
      },
      "execution_count": 11,
      "outputs": [
        {
          "output_type": "stream",
          "name": "stdout",
          "text": [
            "Zeros array:\n",
            " [[0. 0. 0. 0.]\n",
            " [0. 0. 0. 0.]\n",
            " [0. 0. 0. 0.]]\n",
            "\n",
            "Ones array:\n",
            " [[1. 1.]\n",
            " [1. 1.]]\n"
          ]
        }
      ]
    },
    {
      "cell_type": "code",
      "source": [
        "# prompt: Write a python program to find the most frequent value in a NumPy array.\n",
        "\n",
        "import numpy as np\n",
        "\n",
        "def most_frequent_value(arr):\n",
        "    \"\"\"\n",
        "    Finds the most frequent value in a NumPy array.\n",
        "\n",
        "    Args:\n",
        "    arr: A NumPy array.\n",
        "\n",
        "    Returns:\n",
        "    The most frequent value in the array, or None if the array is empty.\n",
        "    \"\"\"\n",
        "    if arr.size == 0:\n",
        "        return None\n",
        "\n",
        "    values, counts = np.unique(arr, return_counts=True)\n",
        "    index = np.argmax(counts)\n",
        "    return values[index]\n",
        "\n",
        "# Example usage\n",
        "my_array = np.array([1, 2, 2, 3, 3, 3, 4, 4, 4, 4])\n",
        "most_frequent = most_frequent_value(my_array)\n",
        "print(f\"The most frequent value in the array is: {most_frequent}\")\n",
        "\n",
        "my_array = np.array([])\n",
        "most_frequent = most_frequent_value(my_array)\n",
        "print(f\"The most frequent value in the array is: {most_frequent}\")"
      ],
      "metadata": {
        "colab": {
          "base_uri": "https://localhost:8080/"
        },
        "id": "yScVigQKWABa",
        "outputId": "bb345ac2-947f-4fdd-ba96-455e85084ab2"
      },
      "execution_count": 12,
      "outputs": [
        {
          "output_type": "stream",
          "name": "stdout",
          "text": [
            "The most frequent value in the array is: 4\n",
            "The most frequent value in the array is: None\n"
          ]
        }
      ]
    },
    {
      "cell_type": "code",
      "source": [
        "# prompt: Create two numpy arrays and perform\n",
        "# a) Sum\n",
        "# b) Subtraction\n",
        "# c) Multiplication\n",
        "# d) Division\n",
        "# e) Concatenation\n",
        "\n",
        "import numpy as np\n",
        "\n",
        "# Create two NumPy arrays\n",
        "array1 = np.array([1, 2, 3, 4, 5])\n",
        "array2 = np.array([6, 7, 8, 9, 10])\n",
        "\n",
        "# a) Sum\n",
        "sum_array = array1 + array2\n",
        "print(\"Sum:\", sum_array)\n",
        "\n",
        "# b) Subtraction\n",
        "sub_array = array1 - array2\n",
        "print(\"Subtraction:\", sub_array)\n",
        "\n",
        "# c) Multiplication\n",
        "mul_array = array1 * array2\n",
        "print(\"Multiplication:\", mul_array)\n",
        "\n",
        "# d) Division\n",
        "div_array = array1 / array2\n",
        "print(\"Division:\", div_array)\n",
        "\n",
        "# e) Concatenation\n",
        "concat_array = np.concatenate((array1, array2))\n",
        "print(\"Concatenation:\", concat_array)"
      ],
      "metadata": {
        "colab": {
          "base_uri": "https://localhost:8080/"
        },
        "id": "Z0piHfhCX2IB",
        "outputId": "82f26d7d-9110-414d-e4d7-1793e90445f5"
      },
      "execution_count": 13,
      "outputs": [
        {
          "output_type": "stream",
          "name": "stdout",
          "text": [
            "Sum: [ 7  9 11 13 15]\n",
            "Subtraction: [-5 -5 -5 -5 -5]\n",
            "Multiplication: [ 6 14 24 36 50]\n",
            "Division: [0.16666667 0.28571429 0.375      0.44444444 0.5       ]\n",
            "Concatenation: [ 1  2  3  4  5  6  7  8  9 10]\n"
          ]
        }
      ]
    },
    {
      "cell_type": "markdown",
      "source": [
        "\n",
        "Example no 1"
      ],
      "metadata": {
        "id": "E0eB7dgWc7-j"
      }
    },
    {
      "cell_type": "code",
      "source": [
        "a='AIMAL';\n",
        "print(a)"
      ],
      "metadata": {
        "colab": {
          "base_uri": "https://localhost:8080/"
        },
        "id": "IxrsBIBlc_1N",
        "outputId": "13235d33-dd7c-4725-ed09-c19e1b83300b"
      },
      "execution_count": 14,
      "outputs": [
        {
          "output_type": "stream",
          "name": "stdout",
          "text": [
            "AIMAL\n"
          ]
        }
      ]
    },
    {
      "cell_type": "markdown",
      "source": [
        "\n",
        "Example no 2"
      ],
      "metadata": {
        "id": "NxW9y7r8dUdw"
      }
    },
    {
      "cell_type": "code",
      "source": [
        "for x in a:\n",
        "  print(x)"
      ],
      "metadata": {
        "colab": {
          "base_uri": "https://localhost:8080/"
        },
        "id": "EpcSv93AdYsg",
        "outputId": "1ef8f053-7646-45f8-f63d-1e2380203d79"
      },
      "execution_count": 16,
      "outputs": [
        {
          "output_type": "stream",
          "name": "stdout",
          "text": [
            "A\n",
            "I\n",
            "M\n",
            "A\n",
            "L\n"
          ]
        }
      ]
    },
    {
      "cell_type": "markdown",
      "source": [
        "\n",
        "Example no 3\n"
      ],
      "metadata": {
        "id": "paDVi0Zidi4q"
      }
    },
    {
      "cell_type": "code",
      "source": [
        "str = \"Start from python\";\n",
        "print(str[1:6])"
      ],
      "metadata": {
        "colab": {
          "base_uri": "https://localhost:8080/"
        },
        "id": "tw3pd2WSdlqM",
        "outputId": "2e8924f7-3496-4583-d406-97bb0223dc90"
      },
      "execution_count": 17,
      "outputs": [
        {
          "output_type": "stream",
          "name": "stdout",
          "text": [
            "tart \n"
          ]
        }
      ]
    },
    {
      "cell_type": "markdown",
      "source": [
        "\n",
        "Example no 4\n"
      ],
      "metadata": {
        "id": "blwv-aSPdzFk"
      }
    },
    {
      "cell_type": "code",
      "source": [
        "stdname=[\"Ali\", \"Hassan\", \"Hamza\", \"Attique\"]\n",
        "print(stdname)\n",
        "print(type(stdname))"
      ],
      "metadata": {
        "colab": {
          "base_uri": "https://localhost:8080/"
        },
        "id": "8tVCjwQUd2Sk",
        "outputId": "5f0718ae-4a86-4a47-ae83-995ccf586654"
      },
      "execution_count": 18,
      "outputs": [
        {
          "output_type": "stream",
          "name": "stdout",
          "text": [
            "['Ali', 'Hassan', 'Hamza', 'Attique']\n",
            "<class 'list'>\n"
          ]
        }
      ]
    },
    {
      "cell_type": "markdown",
      "source": [
        "\n",
        "Example no 5\n"
      ],
      "metadata": {
        "id": "6vTmY6tUeFZG"
      }
    },
    {
      "cell_type": "code",
      "source": [
        "stdname=[\"Ali\", \"Hassan\", \"Hamza\"]\n",
        "for i in range(len(stdname)):\n",
        "  print(stdname[i])"
      ],
      "metadata": {
        "colab": {
          "base_uri": "https://localhost:8080/"
        },
        "id": "Igoqh4p0eIBp",
        "outputId": "0d461fc5-9e4b-4aa8-baed-799a58ae2cd6"
      },
      "execution_count": 19,
      "outputs": [
        {
          "output_type": "stream",
          "name": "stdout",
          "text": [
            "Ali\n",
            "Hassan\n",
            "Hamza\n"
          ]
        }
      ]
    },
    {
      "cell_type": "markdown",
      "source": [
        "\n",
        "Example no 6\n"
      ],
      "metadata": {
        "id": "DsUsJx5kebp9"
      }
    },
    {
      "cell_type": "code",
      "source": [
        "stdname=[\"Ali\", \"Hassan\", \"Hamza\"]\n",
        "i=0\n",
        "while i < len(stdname):\n",
        "  print(stdname[i])\n",
        "  i = i+1"
      ],
      "metadata": {
        "colab": {
          "base_uri": "https://localhost:8080/"
        },
        "id": "9Dx2gaHked9f",
        "outputId": "bf785e90-60f8-4ad8-86ff-6e482365a291"
      },
      "execution_count": 2,
      "outputs": [
        {
          "output_type": "stream",
          "name": "stdout",
          "text": [
            "Ali\n",
            "Hassan\n",
            "Hamza\n"
          ]
        }
      ]
    },
    {
      "cell_type": "markdown",
      "source": [
        "\n",
        "Example no 7\n"
      ],
      "metadata": {
        "id": "Nb7yMQhWfCrV"
      }
    },
    {
      "cell_type": "code",
      "source": [
        "courses = (\"AI\", \"DS\", \"ML\")\n",
        "print(courses)"
      ],
      "metadata": {
        "colab": {
          "base_uri": "https://localhost:8080/"
        },
        "id": "UFORDeKTfFDr",
        "outputId": "07eebb63-dc6e-483f-b01d-242edfb38929"
      },
      "execution_count": 3,
      "outputs": [
        {
          "output_type": "stream",
          "name": "stdout",
          "text": [
            "('AI', 'DS', 'ML')\n"
          ]
        }
      ]
    },
    {
      "cell_type": "markdown",
      "source": [
        "\n",
        "Example no 8\n"
      ],
      "metadata": {
        "id": "YSC7p7mifQEC"
      }
    },
    {
      "cell_type": "code",
      "source": [
        "courses = (\"AI\", \"DS\", \"ML\")\n",
        "for i in range(len(courses)):\n",
        "  print(courses[i])"
      ],
      "metadata": {
        "colab": {
          "base_uri": "https://localhost:8080/"
        },
        "id": "zG4e3IqdfSZM",
        "outputId": "30eff501-ef51-4a58-d095-de1c3355a5ec"
      },
      "execution_count": 4,
      "outputs": [
        {
          "output_type": "stream",
          "name": "stdout",
          "text": [
            "AI\n",
            "DS\n",
            "ML\n"
          ]
        }
      ]
    },
    {
      "cell_type": "markdown",
      "source": [
        "\n",
        "Example no 9\n"
      ],
      "metadata": {
        "id": "CdOgu43ufY9N"
      }
    },
    {
      "cell_type": "code",
      "source": [
        "sets = {\"AI\", \"DS\", \"ML\"}\n",
        "print(sets)"
      ],
      "metadata": {
        "colab": {
          "base_uri": "https://localhost:8080/"
        },
        "id": "J14hQ8kffbko",
        "outputId": "5d9f1186-ceec-4cc9-81c0-f945644fcd0c"
      },
      "execution_count": 5,
      "outputs": [
        {
          "output_type": "stream",
          "name": "stdout",
          "text": [
            "{'ML', 'DS', 'AI'}\n"
          ]
        }
      ]
    },
    {
      "cell_type": "markdown",
      "source": [
        "\n",
        "Example no 10\n"
      ],
      "metadata": {
        "id": "eaiMrgPOff5y"
      }
    },
    {
      "cell_type": "code",
      "source": [
        "sets = {\"AI\", \"DS\", \"ML\"}\n",
        "for i in range(len(sets)):\n",
        "  print(i)"
      ],
      "metadata": {
        "colab": {
          "base_uri": "https://localhost:8080/"
        },
        "id": "lvqwwFKHfi75",
        "outputId": "b1a148e5-5a64-4c52-863c-8a0184ebfbbb"
      },
      "execution_count": 7,
      "outputs": [
        {
          "output_type": "stream",
          "name": "stdout",
          "text": [
            "0\n",
            "1\n",
            "2\n"
          ]
        }
      ]
    },
    {
      "cell_type": "markdown",
      "source": [
        "\n",
        "Example no 11\n"
      ],
      "metadata": {
        "id": "prbJX_L4ft_p"
      }
    },
    {
      "cell_type": "code",
      "source": [
        "student = {\"name\": \"Ali\",\n",
        "           \"age\": 20,\n",
        "           \"course\": \"AI\"}\n",
        "print(student)"
      ],
      "metadata": {
        "colab": {
          "base_uri": "https://localhost:8080/"
        },
        "id": "74ilMiwmfxEH",
        "outputId": "10ddaf94-1114-4ba1-d97a-22c77b95297e"
      },
      "execution_count": 9,
      "outputs": [
        {
          "output_type": "stream",
          "name": "stdout",
          "text": [
            "{'name': 'Ali', 'age': 20, 'course': 'AI'}\n"
          ]
        }
      ]
    },
    {
      "cell_type": "markdown",
      "source": [
        "\n",
        "Example no 12\n"
      ],
      "metadata": {
        "id": "dMwwJa3AgAEO"
      }
    },
    {
      "cell_type": "code",
      "source": [
        "for i in student:\n",
        "  print(i)"
      ],
      "metadata": {
        "colab": {
          "base_uri": "https://localhost:8080/"
        },
        "id": "qvaZ4yoIgEJ-",
        "outputId": "05ce3219-7fe2-4788-d088-a4705e1765b3"
      },
      "execution_count": 10,
      "outputs": [
        {
          "output_type": "stream",
          "name": "stdout",
          "text": [
            "name\n",
            "age\n",
            "course\n"
          ]
        }
      ]
    },
    {
      "cell_type": "markdown",
      "source": [
        "\n",
        "Example no 13\n"
      ],
      "metadata": {
        "id": "B8vkZNtLgIwV"
      }
    },
    {
      "cell_type": "code",
      "source": [
        "for i in student:\n",
        "  print(student[i])"
      ],
      "metadata": {
        "colab": {
          "base_uri": "https://localhost:8080/"
        },
        "id": "3DFVa-ZigMhv",
        "outputId": "a17218ed-c17b-4ab6-f851-c8a5b4f84bc7"
      },
      "execution_count": 11,
      "outputs": [
        {
          "output_type": "stream",
          "name": "stdout",
          "text": [
            "Ali\n",
            "20\n",
            "AI\n"
          ]
        }
      ]
    },
    {
      "cell_type": "markdown",
      "source": [
        "\n",
        "Example no 14\n"
      ],
      "metadata": {
        "id": "B4myOYgtgRMb"
      }
    },
    {
      "cell_type": "code",
      "source": [
        "for i, j in student.items():\n",
        "  print(i,j)"
      ],
      "metadata": {
        "colab": {
          "base_uri": "https://localhost:8080/"
        },
        "id": "NyiqphdogTXb",
        "outputId": "ddda35aa-d703-4af3-b23c-e206aed47a31"
      },
      "execution_count": 12,
      "outputs": [
        {
          "output_type": "stream",
          "name": "stdout",
          "text": [
            "name Ali\n",
            "age 20\n",
            "course AI\n"
          ]
        }
      ]
    },
    {
      "cell_type": "markdown",
      "source": [
        "\n",
        "Example no 15\n"
      ],
      "metadata": {
        "id": "5T3peEIEgohE"
      }
    },
    {
      "cell_type": "code",
      "source": [
        "import numpy as np\n",
        "print(np.__version__)"
      ],
      "metadata": {
        "colab": {
          "base_uri": "https://localhost:8080/"
        },
        "id": "sJZVeo0agsxL",
        "outputId": "40b1c9a7-8e4d-49e4-fecb-b28d7f6d245e"
      },
      "execution_count": 13,
      "outputs": [
        {
          "output_type": "stream",
          "name": "stdout",
          "text": [
            "1.26.4\n"
          ]
        }
      ]
    },
    {
      "cell_type": "markdown",
      "source": [
        "\n",
        "Example no 15\n"
      ],
      "metadata": {
        "id": "OVOjR3XXgzUr"
      }
    },
    {
      "cell_type": "code",
      "source": [
        "arr1d=np.array([1,2,3,4])\n",
        "print(arr1d)"
      ],
      "metadata": {
        "colab": {
          "base_uri": "https://localhost:8080/"
        },
        "id": "AN33i2I3g7hk",
        "outputId": "0842c19d-5148-4720-c292-62653276ca45"
      },
      "execution_count": 14,
      "outputs": [
        {
          "output_type": "stream",
          "name": "stdout",
          "text": [
            "[1 2 3 4]\n"
          ]
        }
      ]
    },
    {
      "cell_type": "markdown",
      "source": [
        "\n",
        "Example no 16\n"
      ],
      "metadata": {
        "id": "XHXGe01ChGfh"
      }
    },
    {
      "cell_type": "code",
      "source": [
        "arr2d=np.array([[1,2,3,4],[5,6,7,8]])\n",
        "print(arr2d)"
      ],
      "metadata": {
        "colab": {
          "base_uri": "https://localhost:8080/"
        },
        "id": "W65Xfr7chJFn",
        "outputId": "ed916f90-b7c5-4b20-df1d-abd5c5c30c06"
      },
      "execution_count": 15,
      "outputs": [
        {
          "output_type": "stream",
          "name": "stdout",
          "text": [
            "[[1 2 3 4]\n",
            " [5 6 7 8]]\n"
          ]
        }
      ]
    },
    {
      "cell_type": "markdown",
      "source": [
        "\n",
        "Example no 17\n"
      ],
      "metadata": {
        "id": "lV-O7S3_hMfS"
      }
    },
    {
      "cell_type": "code",
      "source": [
        "arr7d = np.array([1, 2, 3, 4], ndmin=7)\n",
        "print(arr7d)\n",
        "print(arr7d.ndim)"
      ],
      "metadata": {
        "colab": {
          "base_uri": "https://localhost:8080/"
        },
        "id": "Ysht4xgphP6t",
        "outputId": "b74f4dc6-931d-4a11-e1be-f222833655da"
      },
      "execution_count": 16,
      "outputs": [
        {
          "output_type": "stream",
          "name": "stdout",
          "text": [
            "[[[[[[[1 2 3 4]]]]]]]\n",
            "7\n"
          ]
        }
      ]
    },
    {
      "cell_type": "markdown",
      "source": [
        "\n",
        "Example no 18\n"
      ],
      "metadata": {
        "id": "UltKICI5hU5z"
      }
    },
    {
      "cell_type": "code",
      "source": [
        "arr = np.array([[1, 2, 3, 4], [5, 6, 7, 8]])\n",
        "print(arr.shape)"
      ],
      "metadata": {
        "colab": {
          "base_uri": "https://localhost:8080/"
        },
        "id": "1JnP0idbhXdb",
        "outputId": "1cb9c23f-14b6-4969-d7fa-8792ff1f40dc"
      },
      "execution_count": 17,
      "outputs": [
        {
          "output_type": "stream",
          "name": "stdout",
          "text": [
            "(2, 4)\n"
          ]
        }
      ]
    },
    {
      "cell_type": "markdown",
      "source": [
        "\n",
        "Example no 19\n"
      ],
      "metadata": {
        "id": "4UHOWmmkhbN1"
      }
    },
    {
      "cell_type": "code",
      "source": [
        "arr = np.array([1, 2, 3, 4, 5, 6, 7, 8, 9, 10, 11, 12,12,33,98,77])\n",
        "newarr = arr.reshape(4, 4)\n",
        "print(newarr)"
      ],
      "metadata": {
        "colab": {
          "base_uri": "https://localhost:8080/"
        },
        "id": "MJUfd1pghdS9",
        "outputId": "73c33660-baf9-4818-8f6c-f54185086abf"
      },
      "execution_count": 18,
      "outputs": [
        {
          "output_type": "stream",
          "name": "stdout",
          "text": [
            "[[ 1  2  3  4]\n",
            " [ 5  6  7  8]\n",
            " [ 9 10 11 12]\n",
            " [12 33 98 77]]\n"
          ]
        }
      ]
    },
    {
      "cell_type": "markdown",
      "source": [
        "\n",
        "Example no 20\n"
      ],
      "metadata": {
        "id": "_XU34tcAhiDy"
      }
    },
    {
      "cell_type": "code",
      "source": [
        "arr1 = np.array([1, 2, 3])\n",
        "arr2 = np.array([4, 5, 6])\n",
        "arr = np.concatenate((arr1, arr2))\n",
        "print(arr)"
      ],
      "metadata": {
        "colab": {
          "base_uri": "https://localhost:8080/"
        },
        "id": "OmGGCtTdhkzT",
        "outputId": "17d8526a-4844-4c12-cd73-56ce0fe17c9b"
      },
      "execution_count": 19,
      "outputs": [
        {
          "output_type": "stream",
          "name": "stdout",
          "text": [
            "[1 2 3 4 5 6]\n"
          ]
        }
      ]
    },
    {
      "cell_type": "markdown",
      "source": [
        "\n",
        "Example no 21\n"
      ],
      "metadata": {
        "id": "1LRVGrN8hqbY"
      }
    },
    {
      "cell_type": "code",
      "source": [
        "arr = np.array([1, 2, 3, 4, 5, 6])\n",
        "newarr = np.array_split(arr, 2)"
      ],
      "metadata": {
        "id": "zHeUvThdhsST"
      },
      "execution_count": 20,
      "outputs": []
    },
    {
      "cell_type": "markdown",
      "source": [
        "\n",
        "Example no 22\n"
      ],
      "metadata": {
        "id": "EAoFCAFSh28f"
      }
    },
    {
      "cell_type": "code",
      "source": [
        "a1=np.array([[1,2,3,4]])\n",
        "print(\"Size of Array: \", a1.shape)\n",
        "print(\"Memory utilizing to store: \", a1.nbytes)\n",
        "print(\"Sum: \",a1.sum())\n",
        "print(\"Max value from the array: \",a1.max())\n",
        "print(\"Min value from the array: \", a1.min())\n",
        "print(\"Mean Value: \",a1.mean())"
      ],
      "metadata": {
        "colab": {
          "base_uri": "https://localhost:8080/"
        },
        "id": "tUDgpYRziN6L",
        "outputId": "40af0614-99ff-4759-9b12-38dff4327825"
      },
      "execution_count": 22,
      "outputs": [
        {
          "output_type": "stream",
          "name": "stdout",
          "text": [
            "Size of Array:  (1, 4)\n",
            "Memory utilizing to store:  32\n",
            "Sum:  10\n",
            "Max value from the array:  4\n",
            "Min value from the array:  1\n",
            "Mean Value:  2.5\n"
          ]
        }
      ]
    }
  ]
}