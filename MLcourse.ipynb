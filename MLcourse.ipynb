{
  "nbformat": 4,
  "nbformat_minor": 0,
  "metadata": {
    "colab": {
      "provenance": [],
      "authorship_tag": "ABX9TyM7g5uDj5m/OQ0FaQPvLPgN",
      "include_colab_link": true
    },
    "kernelspec": {
      "name": "python3",
      "display_name": "Python 3"
    },
    "language_info": {
      "name": "python"
    }
  },
  "cells": [
    {
      "cell_type": "markdown",
      "metadata": {
        "id": "view-in-github",
        "colab_type": "text"
      },
      "source": [
        "<a href=\"https://colab.research.google.com/github/SyedaTabinda804/fictional_t/blob/main/MLcourse.ipynb\" target=\"_parent\"><img src=\"https://colab.research.google.com/assets/colab-badge.svg\" alt=\"Open In Colab\"/></a>"
      ]
    },
    {
      "cell_type": "markdown",
      "source": [
        "**Examples**\n",
        "\n",
        "example 1:\n"
      ],
      "metadata": {
        "id": "wKHFBG1U-Ghq"
      }
    },
    {
      "cell_type": "code",
      "source": [
        "print (\"Name: Ali\")"
      ],
      "metadata": {
        "colab": {
          "base_uri": "https://localhost:8080/"
        },
        "id": "yM_gr7w9-eTR",
        "outputId": "9f9c560a-813c-4281-fba4-77454e0f7f06"
      },
      "execution_count": null,
      "outputs": [
        {
          "output_type": "stream",
          "name": "stdout",
          "text": [
            "Name: Ali\n"
          ]
        }
      ]
    },
    {
      "cell_type": "markdown",
      "source": [
        "\n",
        "example 2:\n"
      ],
      "metadata": {
        "id": "EFqocNu4-oC3"
      }
    },
    {
      "cell_type": "code",
      "source": [
        "var0= 0\n",
        "var1= \"Hello Python\"\n",
        "var2= 32\n",
        "var3= 56.4\n",
        "print(\"var0:\",type(var0))\n",
        "print(\"var1:\",type(var1))\n",
        "print(\"var1:\",type(var2))\n",
        "print(\"var1:\",type(var3))"
      ],
      "metadata": {
        "colab": {
          "base_uri": "https://localhost:8080/"
        },
        "id": "K7E9MLo3-sLw",
        "outputId": "4aa48f08-3098-4276-ceca-34d7db9be436"
      },
      "execution_count": null,
      "outputs": [
        {
          "output_type": "stream",
          "name": "stdout",
          "text": [
            "var0: <class 'int'>\n",
            "var1: <class 'str'>\n",
            "var1: <class 'int'>\n",
            "var1: <class 'float'>\n"
          ]
        }
      ]
    },
    {
      "cell_type": "markdown",
      "source": [
        "\n",
        "example 3:\n"
      ],
      "metadata": {
        "id": "jNFdeMiz_yQs"
      }
    },
    {
      "cell_type": "code",
      "source": [
        "def add():\n",
        "   c = int(a) + int(b)\n",
        "   print(\" Add result:\" ,c)\n",
        "\n",
        "if __name__== \"main\":\n",
        "   print(\"Enter First Number:\")\n",
        "   a = input()\n",
        "   print(\"Enter Second Number:\")\n",
        "   b = input()\n",
        "   add()\n"
      ],
      "metadata": {
        "id": "8JibgYex_07g"
      },
      "execution_count": null,
      "outputs": []
    },
    {
      "cell_type": "markdown",
      "source": [
        "\n",
        "Example 4\n"
      ],
      "metadata": {
        "id": "5hvDNt2KHp9_"
      }
    },
    {
      "cell_type": "code",
      "source": [
        "def add(a, b):\n",
        "  c = int (a) + int(b)\n",
        "  print(\" ADD result: \" ,c)\n",
        "  add ( 2, 3)"
      ],
      "metadata": {
        "id": "WF4ncomUHuGG"
      },
      "execution_count": null,
      "outputs": []
    },
    {
      "cell_type": "markdown",
      "source": [
        "\n",
        "Question:\n",
        "\n",
        "solve these examples:\n",
        "\n",
        "1.\n",
        "Write a program which can perform ADD, Subtract, Multiply and Divide\n",
        "operations with the help of Functions. Multiply Function should be parametrized\n",
        "function and other functions should be default functions.\n"
      ],
      "metadata": {
        "id": "oFFP4SGqItGs"
      }
    },
    {
      "cell_type": "code",
      "source": [
        "def add():\n",
        "    a = input(\"Enter the first number: \")\n",
        "    b = input(\"Enter the second number: \")\n",
        "    try:\n",
        "        c = int(a) + int(b)\n",
        "        print(\"Add result:\", c)\n",
        "    except ValueError:\n",
        "        print(\"Invalid input. Please enter numbers only.\")\n",
        "\n",
        "def subtract():\n",
        "    a = input(\"Enter the first number: \")\n",
        "    b = input(\"Enter the second number: \")\n",
        "    try:\n",
        "        c = int(a) - int(b)\n",
        "        print(\"Subtract result:\", c)\n",
        "    except ValueError:\n",
        "        print(\"Invalid input. Please enter numbers only.\")\n",
        "\n",
        "def divide():\n",
        "    a = input(\"Enter the first number: \")\n",
        "    b = input(\"Enter the second number: \")\n",
        "    try:\n",
        "        if int(b) == 0:\n",
        "            print(\"Cannot divide by zero.\")\n",
        "        else:\n",
        "            c = int(a) / int(b)\n",
        "            print(\"Divide result:\", c)\n",
        "    except ValueError:\n",
        "        print(\"Invalid input. Please enter numbers only.\")\n",
        "    except ZeroDivisionError:\n",
        "        print(\"Cannot divide by zero.\")\n",
        "\n",
        "\n",
        "def multiply(a, b):\n",
        "    try:\n",
        "        c = int(a) * int(b)\n",
        "        print(\"Multiply result:\", c)\n",
        "    except ValueError:\n",
        "        print(\"Invalid input. Please enter numbers only.\")\n",
        "\n",
        "\n",
        "if __name__ == \"__main__\":\n",
        "    while True:\n",
        "        print(\"\\nSelect operation:\")\n",
        "        print(\"1. Add\")\n",
        "        print(\"2. Subtract\")\n",
        "        print(\"3. Multiply\")\n",
        "        print(\"4. Divide\")\n",
        "        print(\"5. Exit\")\n",
        "\n",
        "        choice = input(\"Enter choice(1/2/3/4/5): \")\n",
        "\n",
        "        if choice == '1':\n",
        "            add()\n",
        "        elif choice == '2':\n",
        "            subtract()\n",
        "        elif choice == '3':\n",
        "            a = input(\"Enter the first number: \")\n",
        "            b = input(\"Enter the second number: \")\n",
        "            multiply(a, b)\n",
        "        elif choice == '4':\n",
        "            divide()\n",
        "        elif choice == '5':\n",
        "            break\n",
        "        else:\n",
        "            print(\"Invalid Input\")"
      ],
      "metadata": {
        "id": "r2usp_0iNeFy",
        "colab": {
          "base_uri": "https://localhost:8080/"
        },
        "outputId": "fd5e2218-9115-41ab-eab1-edd1997a9734"
      },
      "execution_count": null,
      "outputs": [
        {
          "name": "stdout",
          "output_type": "stream",
          "text": [
            "\n",
            "Select operation:\n",
            "1. Add\n",
            "2. Subtract\n",
            "3. Multiply\n",
            "4. Divide\n",
            "5. Exit\n",
            "Enter choice(1/2/3/4/5): 1\n",
            "Enter the first number: 512\n",
            "Enter the second number: 12\n",
            "Add result: 524\n",
            "\n",
            "Select operation:\n",
            "1. Add\n",
            "2. Subtract\n",
            "3. Multiply\n",
            "4. Divide\n",
            "5. Exit\n",
            "Enter choice(1/2/3/4/5): 5\n"
          ]
        }
      ]
    },
    {
      "cell_type": "markdown",
      "source": [
        "Question:\n",
        "\n",
        "solve these examples:\n",
        "\n",
        "2.\n",
        "Write a python program which get two inputs from the user and calculate the\n",
        "average of these numbers. The average function should be implemented as a\n",
        "function."
      ],
      "metadata": {
        "id": "vJpzqDscDPwM"
      }
    },
    {
      "cell_type": "code",
      "source": [
        "def calculate_average(num1, num2):\n",
        "    \"\"\"Calculates the average of two numbers.\n",
        "\n",
        "    Args:\n",
        "        num1: The first number.\n",
        "        num2: The second number.\n",
        "\n",
        "    Returns:\n",
        "        The average of the two numbers, or None if the input is invalid.\n",
        "    \"\"\"\n",
        "    try:\n",
        "        num1 = float(num1)\n",
        "        num2 = float(num2)\n",
        "        average = (num1 + num2) / 2\n",
        "        return average\n",
        "    except ValueError:\n",
        "        print(\"Invalid input. Please enter numbers only.\")\n",
        "        return None\n",
        "\n",
        "if __name__ == \"__main__\":\n",
        "    num1 = input(\"Enter the first number: \")\n",
        "    num2 = input(\"Enter the second number: \")\n",
        "\n",
        "    average = calculate_average(num1, num2)\n",
        "    if average is not None:\n",
        "      print(\"The average of\", num1, \"and\", num2, \"is \", average)"
      ],
      "metadata": {
        "colab": {
          "base_uri": "https://localhost:8080/"
        },
        "id": "1omXFrLuDp_q",
        "outputId": "0928099c-ede0-4342-f2a4-8e78a2dae1fa"
      },
      "execution_count": null,
      "outputs": [
        {
          "output_type": "stream",
          "name": "stdout",
          "text": [
            "Enter the first number: 25\n",
            "Enter the second number: 5\n",
            "The average of 25 and 5 is  15.0\n"
          ]
        }
      ]
    },
    {
      "cell_type": "code",
      "source": [
        "def is_right_triangle(a, b, c):\n",
        "    sides = sorted([a, b, c])\n",
        "    if sides[0]**2 + sides[1]**2 == sides[2]**2:\n",
        "        return True\n",
        "    else:\n",
        "        return False\n",
        "\n",
        "# Get input from the user\n",
        "side1 = float(input(\"Enter the length of the first side: \"))\n",
        "side2 = float(input(\"Enter the length of the second side: \"))\n",
        "side3 = float(input(\"Enter the length of the third side: \"))\n",
        "\n",
        "# Check if it's a right-angled triangle\n",
        "if is_right_triangle(side1, side2, side3):\n",
        "    print(\"The triangle is a right-angled triangle.\")\n",
        "else:\n",
        "    print(\"The triangle is not a right-angled triangle.\")"
      ],
      "metadata": {
        "id": "rfPus5iqM_LN",
        "outputId": "5a1755e9-4951-4f6c-8395-c75ef003a29c",
        "colab": {
          "base_uri": "https://localhost:8080/"
        }
      },
      "execution_count": 1,
      "outputs": [
        {
          "output_type": "stream",
          "name": "stdout",
          "text": [
            "Enter the length of the first side: 15\n",
            "Enter the length of the second side: 15\n",
            "Enter the length of the third side: 12\n",
            "The triangle is not a right-angled triangle.\n"
          ]
        }
      ]
    }
  ]
}